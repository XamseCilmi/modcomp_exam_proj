{
 "cells": [
  {
   "cell_type": "markdown",
   "id": "96f5cbae",
   "metadata": {},
   "source": [
    "## A HIDDEN MARKOV MODEL OF VISUAL ATTENTION"
   ]
  },
  {
   "cell_type": "markdown",
   "id": "44fa7327",
   "metadata": {},
   "source": [
    "#### Part 1:"
   ]
  },
  {
   "cell_type": "markdown",
   "id": "edc251d2",
   "metadata": {},
   "source": [
    "a) forwar simulation from the HMM.<br>\n"
   ]
  },
  {
   "cell_type": "markdown",
   "id": "1f20f51f",
   "metadata": {},
   "source": [
    "Let first simulate One Neutron"
   ]
  },
  {
   "cell_type": "code",
   "execution_count": 1,
   "id": "f9a1c05c",
   "metadata": {},
   "outputs": [],
   "source": [
    "### We are using this constant to simulate\n",
    "alpha = 0.9\n",
    "beta = 0.2\n",
    "gamma = 0.1\n",
    "lambda_1 = 1\n",
    "lambda_2 = 5"
   ]
  },
  {
   "cell_type": "code",
   "execution_count": 2,
   "id": "23a8eacb",
   "metadata": {},
   "outputs": [
    {
     "name": "stdout",
     "output_type": "stream",
     "text": [
      "[[0.9, 0, 0.1], [0, 0.9, 0.1], [0.1, 0.1, 0.8]]\n"
     ]
    }
   ],
   "source": [
    "# lets contruct the gamma matrix\n",
    "gamma_matrix = [[1.0-gamma,0,gamma],[0, 1.0-gamma,gamma],[beta/2.0,beta/2.0,1-beta]]\n",
    "print(gamma_matrix)\n"
   ]
  },
  {
   "cell_type": "code",
   "execution_count": 4,
   "id": "c1fe73dd",
   "metadata": {},
   "outputs": [
    {
     "name": "stdout",
     "output_type": "stream",
     "text": [
      "[0, 0, 0, 0, 0, 0, 0, 0, 0, 0]\n"
     ]
    }
   ],
   "source": [
    "# let contruct a representation of C\n",
    "C =[0 for i in range (10)]\n",
    "print(C)"
   ]
  },
  {
   "cell_type": "code",
   "execution_count": 6,
   "id": "e417ce62",
   "metadata": {},
   "outputs": [
    {
     "name": "stdout",
     "output_type": "stream",
     "text": [
      "[[0, 0, 1], 0, 0, 0, 0, 0, 0, 0, 0, 0]\n"
     ]
    }
   ],
   "source": [
    "## C_1 is alway C_1 = 2\n",
    "C[0] = [0,0,1]\n",
    "print(C)"
   ]
  },
  {
   "cell_type": "markdown",
   "id": "c7bf5b86",
   "metadata": {},
   "source": [
    "The other $C_t$ are given as such $P(C_{t+1} =d | C_t = c) = \\gamma_{c,d}$"
   ]
  },
  {
   "cell_type": "code",
   "execution_count": 8,
   "id": "da0a9492",
   "metadata": {},
   "outputs": [
    {
     "name": "stdout",
     "output_type": "stream",
     "text": [
      "[[0, 0, 1], [0.1, 0.1, 0.8], 0, 0, 0, 0, 0, 0, 0, 0]\n"
     ]
    }
   ],
   "source": [
    "## Let calculate for C_2\n",
    "## We know C_1 can only take one value 2\n",
    "C[1] = [gamma_matrix[2][0],gamma_matrix[2][1],gamma_matrix[2][2]]\n",
    "print(C)"
   ]
  },
  {
   "cell_type": "code",
   "execution_count": 9,
   "id": "16933a0b",
   "metadata": {},
   "outputs": [
    {
     "name": "stdout",
     "output_type": "stream",
     "text": [
      "[[0, 0, 1], [0.1, 0.1, 0.8], [[0.9, 0, 0.1], [0, 0.9, 0.1], [0.1, 0.1, 0.8]], [[0.9, 0, 0.1], [0, 0.9, 0.1], [0.1, 0.1, 0.8]], [[0.9, 0, 0.1], [0, 0.9, 0.1], [0.1, 0.1, 0.8]], [[0.9, 0, 0.1], [0, 0.9, 0.1], [0.1, 0.1, 0.8]], [[0.9, 0, 0.1], [0, 0.9, 0.1], [0.1, 0.1, 0.8]], [[0.9, 0, 0.1], [0, 0.9, 0.1], [0.1, 0.1, 0.8]], [[0.9, 0, 0.1], [0, 0.9, 0.1], [0.1, 0.1, 0.8]], [[0.9, 0, 0.1], [0, 0.9, 0.1], [0.1, 0.1, 0.8]]]\n"
     ]
    }
   ],
   "source": [
    "# For the rest C_t are equal the gamma matrix\n",
    "# Since they can take all the values\n",
    "for i in range(2,10):\n",
    "    C[i] = gamma_matrix\n",
    "print(C)"
   ]
  },
  {
   "cell_type": "code",
   "execution_count": null,
   "id": "1019bee7",
   "metadata": {},
   "outputs": [],
   "source": []
  }
 ],
 "metadata": {
  "kernelspec": {
   "display_name": "Python 3 (ipykernel)",
   "language": "python",
   "name": "python3"
  },
  "language_info": {
   "codemirror_mode": {
    "name": "ipython",
    "version": 3
   },
   "file_extension": ".py",
   "mimetype": "text/x-python",
   "name": "python",
   "nbconvert_exporter": "python",
   "pygments_lexer": "ipython3",
   "version": "3.9.12"
  }
 },
 "nbformat": 4,
 "nbformat_minor": 5
}
