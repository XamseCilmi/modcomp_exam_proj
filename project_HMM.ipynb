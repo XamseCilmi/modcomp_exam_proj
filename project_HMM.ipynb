{
 "cells": [
  {
   "cell_type": "markdown",
   "id": "0e666cbd",
   "metadata": {},
   "source": [
    "## A HIDDEN MARKOV MODEL OF VISUAL ATTENTION"
   ]
  },
  {
   "cell_type": "markdown",
   "id": "b367bb74",
   "metadata": {},
   "source": [
    "#### Part 1:"
   ]
  },
  {
   "cell_type": "markdown",
   "id": "9d815544",
   "metadata": {},
   "source": [
    "a) forwar simulation from the HMM.<br>\n"
   ]
  },
  {
   "cell_type": "markdown",
   "id": "32add0e6",
   "metadata": {},
   "source": [
    "Let first simulate One Neutron"
   ]
  },
  {
   "cell_type": "code",
   "execution_count": 1,
   "id": "f47dfa6f",
   "metadata": {},
   "outputs": [],
   "source": [
    "### We are using this constant to simulate\n",
    "alpha = 0.9\n",
    "beta = 0.2\n",
    "gamma = 0.1\n",
    "lambda_1 = 1\n",
    "lambda_2 = 5"
   ]
  },
  {
   "cell_type": "code",
   "execution_count": 2,
   "id": "7ae1bc3f",
   "metadata": {},
   "outputs": [
    {
     "name": "stdout",
     "output_type": "stream",
     "text": [
      "[[0.9, 0, 0.1], [0, 0.9, 0.1], [0.1, 0.1, 0.8]]\n"
     ]
    }
   ],
   "source": [
    "# lets contruct the gamma matrix\n",
    "gamma_matrix = [[1.0-gamma,0,gamma],[0, 1.0-gamma,gamma],[beta/2.0,beta/2.0,1-beta]]\n",
    "print(gamma_matrix)\n"
   ]
  },
  {
   "cell_type": "code",
   "execution_count": 4,
   "id": "4bfb96d5",
   "metadata": {},
   "outputs": [
    {
     "name": "stdout",
     "output_type": "stream",
     "text": [
      "[0, 0, 0, 0, 0, 0, 0, 0, 0, 0]\n"
     ]
    }
   ],
   "source": [
    "# let contruct a representation of C\n",
    "C =[0 for i in range (10)]\n",
    "print(C)"
   ]
  },
  {
   "cell_type": "code",
   "execution_count": 6,
   "id": "943d54b1",
   "metadata": {},
   "outputs": [
    {
     "name": "stdout",
     "output_type": "stream",
     "text": [
      "[[0, 0, 1], 0, 0, 0, 0, 0, 0, 0, 0, 0]\n"
     ]
    }
   ],
   "source": [
    "## C_1 is alway C_1 = 2\n",
    "C[0] = [0,0,1]\n",
    "print(C)"
   ]
  },
  {
   "cell_type": "markdown",
   "id": "1db7fd1b",
   "metadata": {},
   "source": [
    "The other $C_t$ are given as such $P(C_{t+1} =d | C_t = c) = \\gamma_{c,d}$"
   ]
  },
  {
   "cell_type": "code",
   "execution_count": 8,
   "id": "7488fae2",
   "metadata": {},
   "outputs": [
    {
     "name": "stdout",
     "output_type": "stream",
     "text": [
      "[[0, 0, 1], [0.1, 0.1, 0.8], 0, 0, 0, 0, 0, 0, 0, 0]\n"
     ]
    }
   ],
   "source": [
    "## Let calculate for C_2\n",
    "## We know C_1 can only take one value 2\n",
    "C[1] = [gamma_matrix[2][0],gamma_matrix[2][1],gamma_matrix[2][2]]\n",
    "print(C)"
   ]
  },
  {
   "cell_type": "code",
   "execution_count": 9,
   "id": "677a7278",
   "metadata": {},
   "outputs": [
    {
     "name": "stdout",
     "output_type": "stream",
     "text": [
      "[[0, 0, 1], [0.1, 0.1, 0.8], [[0.9, 0, 0.1], [0, 0.9, 0.1], [0.1, 0.1, 0.8]], [[0.9, 0, 0.1], [0, 0.9, 0.1], [0.1, 0.1, 0.8]], [[0.9, 0, 0.1], [0, 0.9, 0.1], [0.1, 0.1, 0.8]], [[0.9, 0, 0.1], [0, 0.9, 0.1], [0.1, 0.1, 0.8]], [[0.9, 0, 0.1], [0, 0.9, 0.1], [0.1, 0.1, 0.8]], [[0.9, 0, 0.1], [0, 0.9, 0.1], [0.1, 0.1, 0.8]], [[0.9, 0, 0.1], [0, 0.9, 0.1], [0.1, 0.1, 0.8]], [[0.9, 0, 0.1], [0, 0.9, 0.1], [0.1, 0.1, 0.8]]]\n"
     ]
    }
   ],
   "source": [
    "# For the rest C_t are equal the gamma matrix\n",
    "# Since they can take all the values\n",
    "for i in range(2,10):\n",
    "    C[i] = gamma_matrix\n",
    "print(C)"
   ]
  },
  {
   "cell_type": "markdown",
   "id": "bb037bd0",
   "metadata": {},
   "source": [
    "$Z_{t,i}$ are given as such $P(Z_{t,i} = 1 | C_t =c) = \\begin{Bmatrix}\n",
    "1-\\alpha & if & c= 0  \\\\\n",
    "\\alpha &  if & c= 1  \\\\\n",
    " 0.5&   if & c= 2\n",
    "\\end{Bmatrix}$"
   ]
  },
  {
   "cell_type": "markdown",
   "id": "a2499c42",
   "metadata": {},
   "source": [
    "The probability of $Z_{1,1}$ to $Z_{1,n}$ are the same.\n",
    "So need only one $Z_{t}$ for each time stamp"
   ]
  },
  {
   "cell_type": "code",
   "execution_count": 11,
   "id": "edcab501",
   "metadata": {},
   "outputs": [
    {
     "data": {
      "text/plain": [
       "[0, 0, 0, 0, 0, 0, 0, 0, 0, 0]"
      ]
     },
     "execution_count": 11,
     "metadata": {},
     "output_type": "execute_result"
    }
   ],
   "source": [
    "## let contruct a representation of Z\n",
    "Z = [0 for i in range(10)]\n",
    "Z"
   ]
  },
  {
   "cell_type": "code",
   "execution_count": 31,
   "id": "393f010a",
   "metadata": {},
   "outputs": [],
   "source": [
    "## lets calculate probability for Z_1 given C_1\n",
    "## C_1 can only take one value 2\n",
    "Z[0] = [0,0,0.5]"
   ]
  },
  {
   "cell_type": "code",
   "execution_count": 32,
   "id": "a0a38c8a",
   "metadata": {},
   "outputs": [
    {
     "data": {
      "text/plain": [
       "[[0, 0, 0.5],\n",
       " [0.09999999999999998, 0.9, 0.5],\n",
       " [0.09999999999999998, 0.9, 0.5],\n",
       " [0.09999999999999998, 0.9, 0.5],\n",
       " [0.09999999999999998, 0.9, 0.5],\n",
       " [0.09999999999999998, 0.9, 0.5],\n",
       " [0.09999999999999998, 0.9, 0.5],\n",
       " [0.09999999999999998, 0.9, 0.5],\n",
       " [0.09999999999999998, 0.9, 0.5],\n",
       " [0.09999999999999998, 0.9, 0.5]]"
      ]
     },
     "execution_count": 32,
     "metadata": {},
     "output_type": "execute_result"
    }
   ],
   "source": [
    "## lets calculate probability for the rest Z =1 given C= 0, 1 or 2\n",
    "for i in range(1,10):\n",
    "    Z[i] = [1-alpha,alpha,0.5]\n",
    "Z    "
   ]
  },
  {
   "cell_type": "code",
   "execution_count": null,
   "id": "8101402b",
   "metadata": {},
   "outputs": [],
   "source": []
  },
  {
   "cell_type": "code",
   "execution_count": null,
   "id": "0cfc8da6",
   "metadata": {},
   "outputs": [],
   "source": [
    "import random\n",
    "\n",
    "\n",
    "\n",
    "X = [0, 1, 2]\n",
    "probabilities = [0.9, 0, 0.1]\n",
    "\n",
    "def simulate():\n",
    "    return random.choices(X, weights=probabilities, k=1)[0]\n",
    "\n",
    "# Simulate 10 times\n",
    "for _ in range(10):\n",
    "    result = simulate()\n",
    "    print(\"Outcome:\", result)"
   ]
  },
  {
   "cell_type": "code",
   "execution_count": 16,
   "id": "9e11bb6e",
   "metadata": {},
   "outputs": [],
   "source": [
    "import random"
   ]
  },
  {
   "cell_type": "code",
   "execution_count": 38,
   "id": "e84fcab3",
   "metadata": {},
   "outputs": [
    {
     "name": "stdout",
     "output_type": "stream",
     "text": [
      "[1, 1, 1, 0, 0, 1, 0, 1, 1, 0]\n"
     ]
    }
   ],
   "source": [
    "## Let simulate C_1 for 10 netrons meaning 10 Z\n",
    "states = [0,1,2]\n",
    "choice_C = Z[0][random.choices(states, weights=C[0], k=1)[0]]\n",
    "pro_Z = [choice_C,1-choice_C]\n",
    "states_Z = [0,1]\n",
    "choice_Z = random.choices(states_Z, weights=pro_Z, k=10)\n",
    "print(choice_Z)"
   ]
  },
  {
   "cell_type": "code",
   "execution_count": 69,
   "id": "63914404",
   "metadata": {},
   "outputs": [
    {
     "data": {
      "text/plain": [
       "[2, 2, 2, 0, 0, 0, 0, 0, 0, 0]"
      ]
     },
     "execution_count": 69,
     "metadata": {},
     "output_type": "execute_result"
    }
   ],
   "source": [
    "# Let simulate C for 10 intvervals\n",
    "states = [0,1,2]\n",
    "time_interval = 10\n",
    "Ct = [2 for i in range(time_interval)]\n",
    "choice = random.choices(states, weights=C[1], k=1)[0]\n",
    "Ct[1] = choice\n",
    "for t in range(2,time_interval):\n",
    "    choice = random.choices(states, weights=C[t][choice], k=1)[0]\n",
    "    Ct[t] = choice\n",
    "Ct"
   ]
  }
 ],
 "metadata": {
  "kernelspec": {
   "display_name": "Python 3 (ipykernel)",
   "language": "python",
   "name": "python3"
  },
  "language_info": {
   "codemirror_mode": {
    "name": "ipython",
    "version": 3
   },
   "file_extension": ".py",
   "mimetype": "text/x-python",
   "name": "python",
   "nbconvert_exporter": "python",
   "pygments_lexer": "ipython3",
   "version": "3.9.12"
  }
 },
 "nbformat": 4,
 "nbformat_minor": 5
}
